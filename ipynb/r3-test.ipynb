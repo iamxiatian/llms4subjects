{
 "cells": [
  {
   "cell_type": "markdown",
   "metadata": {},
   "source": [
    "# R3 method on Test dataset"
   ]
  },
  {
   "cell_type": "code",
   "execution_count": 2,
   "metadata": {},
   "outputs": [],
   "source": [
    "import os\n",
    "import json\n",
    "from pathlib import Path\n",
    "from pprint import pprint\n",
    "\n",
    "os.chdir(\"/root/xiatian/github/llms4subjects\")"
   ]
  },
  {
   "cell_type": "markdown",
   "metadata": {},
   "source": [
    "根据预测结果和原始文件，生成相同名称的详情文件，文件名为xxx.detail，方便rerank"
   ]
  },
  {
   "cell_type": "code",
   "execution_count": null,
   "metadata": {},
   "outputs": [
    {
     "name": "stdout",
     "output_type": "stream",
     "text": [
      "load 112292 alias\n",
      "load 311410 alias\n"
     ]
    }
   ],
   "source": [
    "from llms4subjects.parse import parse_jsonld\n",
    "from llms4subjects.subject import subject_db_all\n",
    "\n",
    "\n",
    "test_dir = \"./db/test/core\"\n",
    "test_files = list(Path(test_dir).glob(\"**/*.jsonld\"))\n",
    "\n",
    "# 生成详情文件\n",
    "for jsonld_file in test_files:\n",
    "    entry = parse_jsonld(jsonld_file)\n",
    "    code_file = jsonld_file.with_suffix(\".json\")\n",
    "    with open(code_file, \"r\", encoding=\"utf-8\") as f:\n",
    "        data = json.load(f)\n",
    "        pred_codes = data[\"dcterms:subject\"]\n",
    "        pred_names = [subject_db_all.get_name_by_code(c) for c in pred_codes]\n",
    "        entry[\"pred_codes\"] = pred_codes\n",
    "        entry[\"pred_names\"] = pred_names\n",
    "        detail_file = jsonld_file.with_suffix(\".detail\")\n",
    "        with open(detail_file, \"w\", encoding=\"utf-8\") as df:\n",
    "            json.dump(entry, df, ensure_ascii=False, indent=2)\n"
   ]
  },
  {
   "cell_type": "code",
   "execution_count": 3,
   "metadata": {},
   "outputs": [
    {
     "data": {
      "text/plain": [
       "6174"
      ]
     },
     "execution_count": 3,
     "metadata": {},
     "output_type": "execute_result"
    }
   ],
   "source": [
    "test_dir:str=\"./db/test/core\"\n",
    "\n",
    "len(list(Path(test_dir).glob(\"**/*.jsonld\")))\n"
   ]
  },
  {
   "cell_type": "code",
   "execution_count": 4,
   "metadata": {},
   "outputs": [
    {
     "data": {
      "text/plain": [
       "477"
      ]
     },
     "execution_count": 4,
     "metadata": {},
     "output_type": "execute_result"
    }
   ],
   "source": [
    "\n",
    "llm_out_files = list(Path(test_dir).glob(\"**/*.llm\"))\n",
    "len(llm_out_files)"
   ]
  },
  {
   "cell_type": "code",
   "execution_count": 7,
   "metadata": {},
   "outputs": [],
   "source": [
    "testset_dir = Path(test_dir)\n",
    "result_dir = Path(\"./db/rerank_result/core\")\n",
    "\n",
    "llm_out_file = llm_out_files[0].with_suffix(\".json\")\n",
    "relative_path = os.path.relpath(llm_out_file, testset_dir)\n",
    "\n",
    "result_file = os.path.join(result_dir, relative_path)\n",
    "Path(result_file).parent.mkdir(parents=True, exist_ok=True)"
   ]
  },
  {
   "cell_type": "code",
   "execution_count": null,
   "metadata": {},
   "outputs": [
    {
     "data": {
      "text/plain": [
       "'Article/en/3A1743761929.llm'"
      ]
     },
     "execution_count": 35,
     "metadata": {},
     "output_type": "execute_result"
    }
   ],
   "source": []
  },
  {
   "cell_type": "code",
   "execution_count": 32,
   "metadata": {},
   "outputs": [
    {
     "data": {
      "text/plain": [
       "{'id': '3A1743761929',\n",
       " 'title': 'Strategies for smart service prototypes - implications for the requirements elicitation in the early development stages',\n",
       " 'abstract': 'The purpose of this paper is to investigate how can prototypes contribute to the requirements elicitation for smart services in the early development stages. Smart services are delivered to or via intelligent objects and are characterized by context awareness, connectivity, and data-driven value creation. Smart services and prototyping are emerging topics in requirements elicitation and pose challenges to existing approaches. This article creates a fundamental understanding for the requirements elicitation by characterizing smart services in a layer model that illustrates the structure, processes, and interaction of the networked components. Based on this, the strategies outline ways how prototypes for smart services can be composed in a result-oriented way and applied in requirements elicitation. The models are based on the results of a comprehensive literature review and demonstrate their relevance using case studies from the mobility sector.',\n",
       " 'gnd_codes': None,\n",
       " 'language': 'en',\n",
       " 'doctype': 'Article',\n",
       " 'pred_codes': ['gnd:4123065-6',\n",
       "  'gnd:4012178-1',\n",
       "  'gnd:1061057097',\n",
       "  'gnd:4841015-9',\n",
       "  'gnd:4033447-8',\n",
       "  'gnd:7713781-4',\n",
       "  'gnd:4161817-8',\n",
       "  'gnd:4139402-1',\n",
       "  'gnd:4045298-0',\n",
       "  'gnd:4480091-5',\n",
       "  'gnd:4037278-9',\n",
       "  'gnd:4691234-4',\n",
       "  'gnd:4061963-1',\n",
       "  'gnd:1117164012',\n",
       "  'gnd:4026926-7',\n",
       "  'gnd:4116521-4',\n",
       "  'gnd:4056754-0',\n",
       "  'gnd:4027089-0',\n",
       "  'gnd:7737985-8',\n",
       "  'gnd:4694120-4',\n",
       "  'gnd:4326464-5',\n",
       "  'gnd:4224244-7',\n",
       "  'gnd:4206907-5',\n",
       "  'gnd:4039785-3',\n",
       "  'gnd:7851257-8',\n",
       "  'gnd:4078599-3',\n",
       "  'gnd:7675980-5',\n",
       "  'gnd:4022492-2',\n",
       "  'gnd:4187817-6',\n",
       "  'gnd:4062954-5',\n",
       "  'gnd:4124261-0',\n",
       "  'gnd:4688372-1',\n",
       "  'gnd:7708028-2',\n",
       "  'gnd:4072806-7',\n",
       "  'gnd:4072788-9',\n",
       "  'gnd:7632675-5',\n",
       "  'gnd:4261462-4',\n",
       "  'gnd:4055382-6',\n",
       "  'gnd:4418986-2',\n",
       "  'gnd:4005541-3',\n",
       "  'gnd:4367264-4',\n",
       "  'gnd:4239366-8',\n",
       "  'gnd:4353072-2',\n",
       "  'gnd:4065685-8',\n",
       "  'gnd:4389159-7',\n",
       "  'gnd:4011510-0',\n",
       "  'gnd:1135597375',\n",
       "  'gnd:4341131-9',\n",
       "  'gnd:4078604-3',\n",
       "  'gnd:4069386-7'],\n",
       " 'pred_names': ['Digitalisierung',\n",
       "  'Dienstleistung',\n",
       "  'Smart City',\n",
       "  'Serviceorientierte Architektur',\n",
       "  'Künstliche Intelligenz',\n",
       "  'Internet der Dinge',\n",
       "  'Innovationsmanagement',\n",
       "  'Produktentwicklung',\n",
       "  'Personenverkehr',\n",
       "  'Vorgehensmodell',\n",
       "  'Management',\n",
       "  'Web Services',\n",
       "  'Unternehmen',\n",
       "  'Mobilität 4.0',\n",
       "  'Informationstechnik',\n",
       "  'Software Engineering',\n",
       "  'Stadtplanung',\n",
       "  'Innovation',\n",
       "  'Geschäftsmodell',\n",
       "  'Mobile Computing',\n",
       "  'Nachhaltigkeit',\n",
       "  'Dienstleistungsangebot',\n",
       "  'Prototyp',\n",
       "  'Mobilität',\n",
       "  'Hybrides Leistungsbündel',\n",
       "  'Unternehmensgründung',\n",
       "  'Ökosystemmanagement',\n",
       "  'Güterverkehr',\n",
       "  'Verkehrsleitsystem',\n",
       "  'Verkehrsplanung',\n",
       "  'Strategisches Management',\n",
       "  'Semantic Web',\n",
       "  'Intelligentes Stromnetz',\n",
       "  'Informationssystem',\n",
       "  'Industriedesign',\n",
       "  'Virtuelle Produktentwicklung',\n",
       "  'Robotik',\n",
       "  'Software',\n",
       "  'Unternehmensbezogene Dienstleistung',\n",
       "  'Benutzerfreundlichkeit',\n",
       "  'Testen',\n",
       "  'Produkteinführung',\n",
       "  'Prozessmanagement',\n",
       "  'Wertschöpfung',\n",
       "  'Rapid Prototyping',\n",
       "  'Design',\n",
       "  'Deep learning',\n",
       "  'Mobile Telekommunikation',\n",
       "  'Unternehmenskooperation',\n",
       "  'Betriebliches Informationssystem'],\n",
       " 'lineno': 0,\n",
       " 'finish_time': '2025-03-20 17:51:04.374637',\n",
       " 'prompt': '\\nYou act as an expert in library subject indexing. Please carefully analyze the given document title and abstract, review the given list of reference topics, and reorder them according to their degree of relevance to the document. Irrelevant topics can be removed, and new topics can also be added. Pay attention that after the intermediate analysis, you must finally output the \"Final topic list\". In the final topic list, only the topic names should be outputted, with one topic name per line, and there should be no other explanatory information mixed in.\\n\\n## Here is an example of the input and output format\\n### Title: xxxx\\n### Abstract: xxxx\\n### Reference sorted list of document topics:\\n  - Topic 1\\n  - Topic 2\\n    \\n### Analysis process\\n(omitted)\\n\\n### Final topic list\\n  - Topic 1\\n  - Topic 2\\n\\n## Normal processing starts here\\n\\n### Title: Strategies for smart service prototypes - implications for the requirements elicitation in the early development stages\\n### Abstract: The purpose of this paper is to investigate how can prototypes contribute to the requirements elicitation for smart services in the early development stages. Smart services are delivered to or via intelligent objects and are characterized by context awareness, connectivity, and data-driven value creation. Smart services and prototyping are emerging topics in requirements elicitation and pose challenges to existing approaches. This article creates a fundamental understanding for the requirements elicitation by characterizing smart services in a layer model that illustrates the structure, processes, and interaction of the networked components. Based on this, the strategies outline ways how prototypes for smart services can be composed in a result-oriented way and applied in requirements elicitation. The models are based on the results of a comprehensive literature review and demonstrate their relevance using case studies from the mobility sector.\\n### Reference sorted list of document topics:\\n  - Digitalisierung\\n  - Dienstleistung\\n  - Smart City\\n  - Serviceorientierte Architektur\\n  - Künstliche Intelligenz\\n  - Internet der Dinge\\n  - Innovationsmanagement\\n  - Produktentwicklung\\n  - Personenverkehr\\n  - Vorgehensmodell\\n  - Management\\n  - Web Services\\n  - Unternehmen\\n  - Mobilität 4.0\\n  - Informationstechnik\\n  - Software Engineering\\n  - Stadtplanung\\n  - Innovation\\n  - Geschäftsmodell\\n  - Mobile Computing\\n  - Nachhaltigkeit\\n  - Dienstleistungsangebot\\n  - Prototyp\\n  - Mobilität\\n  - Hybrides Leistungsbündel\\n  - Unternehmensgründung\\n  - Ökosystemmanagement\\n  - Güterverkehr\\n  - Verkehrsleitsystem\\n  - Verkehrsplanung\\n  - Strategisches Management\\n  - Semantic Web\\n  - Intelligentes Stromnetz\\n  - Informationssystem\\n  - Industriedesign\\n  - Virtuelle Produktentwicklung\\n  - Robotik\\n  - Software\\n  - Unternehmensbezogene Dienstleistung\\n  - Benutzerfreundlichkeit\\n  - Testen\\n  - Produkteinführung\\n  - Prozessmanagement\\n  - Wertschöpfung\\n  - Rapid Prototyping\\n  - Design\\n  - Deep learning\\n  - Mobile Telekommunikation\\n  - Unternehmenskooperation\\n  - Betriebliches Informationssystem\\n\\n### Analysis process\\n',\n",
       " 'answer': '<think>\\nOkay, let\\'s tackle this problem step by step. First, I need to understand what the user is asking. They want me to act as an expert in library subject indexing. My task is to analyze the given document\\'s title and abstract, then reorder the provided list of reference topics based on their relevance to the document. I can remove irrelevant topics and add new ones if necessary. The final list should only include the topic names, each on a separate line, without any explanations.\\n\\nAlright, starting with the document details. The title is \"Strategies for smart service prototypes - implications for the requirements elicitation in the early development stages.\" The abstract talks about how prototypes contribute to requirements elicitation for smart services in early development. It mentions smart services being delivered via intelligent objects with context awareness, connectivity, and data-driven value. The paper uses a layer model to characterize these services and outlines strategies for composing prototypes effectively. Case studies from the mobility sector are used, and it\\'s based on a literature review.\\n\\nNow, looking at the reference topics provided. There\\'s a long list here. Let me go through them one by one and see which are most relevant.\\n\\nFirst, \"Digitalisierung\" (Digitization) – the abstract mentions smart services involving digital aspects like connectivity and data-driven value, so this seems relevant.\\n\\n\"Dienstleistung\" (Service) – since the focus is on smart services, definitely important.\\n\\n\"Smart City\" – the abstract doesn\\'t mention cities specifically, though mobility is part of it. Maybe less relevant unless the case studies tie into cities, but not sure yet.\\n\\n\"Serviceorientierte Architektur\" (Service-Oriented Architecture) – the paper discusses structuring services, so maybe relevant, but not sure if SOA is directly addressed.\\n\\n\"Künstliche Intelligenz\" (Artificial Intelligence) – the abstract doesn\\'t mention AI explicitly. The strategies might involve it indirectly, but perhaps not central enough.\\n\\n\"Internet der Dinge\" (Internet of Things) – key here because smart services use connected devices. Definitely relevant.\\n\\n\"Innovationsmanagement\" (Innovation Management) – the paper is about developing new strategies, so this could be relevant.\\n\\n\"Produktentwicklung\" (Product Development) – the paper talks about development stages, so yes, but maybe more about service than product? Hmm, but \"service prototypes\" could overlap.\\n\\n\"Personenverkehr\" (Passenger Transport) – the case studies are in mobility, so this is relevant.\\n\\n\"Vorgehensmodell\" (Methodology Model) – the paper outlines strategies and models, so very relevant.\\n\\n\"Management\" – too broad, unless specified. The abstract mentions management aspects? Not sure, maybe keep if related to innovation or service management.\\n\\n\"Web Services\" – not mentioned in the abstract. Probably not relevant unless the layer model includes web services, but not clear.\\n\\n\"Unternehmen\" (Company) – too generic, unless the focus is on business aspects. Maybe not essential.\\n\\n\"Mobilität 4.0\" (Mobility 4.0) – the case studies are in mobility, so this is relevant as a modern term for advanced mobility systems.\\n\\n\"Informationstechnik\" (Information Technology) – since smart services rely on IT, this is relevant.\\n\\n\"Software Engineering\" – the paper mentions prototypes and software aspects? The abstract does talk about prototyping, which might involve software. So possibly relevant.\\n\\n\"Innovation\" – definitely relevant as they\\'re discussing new strategies and approaches.\\n\\n\"Geschäftsmodell\" (Business Model) – the abstract mentions value creation, so business models could be part of the service structure. Maybe relevant.\\n\\n\"Mobile Computing\" – related to mobility and smart services, so possible.\\n\\n\"Nachhaltigkeit\" (Sustainability) – not mentioned in the abstract. Probably irrelevant unless implied, but better safe to exclude.\\n\\n\"Dienstleistungsangebot\" (Service Offering) – since it\\'s about service prototypes, this is relevant.\\n\\n\"Prototyp\" (Prototype) – central to the title and abstract. Very high relevance.\\n\\n\"Mobilität\" (Mobility) – case studies are in mobility, so crucial.\\n\\n\"Hybrides Leistungsbündel\" (Hybrid Performance Bundle) – not mentioned. Unrelated.\\n\\n\"Unternehmensgründung\" (Entrepreneurship) – not relevant here.\\n\\n\"Ökosystemmanagement\" (Ecosystem Management) – maybe in the context of interconnected services, but not clearly stated. Maybe stretch, but probably not.\\n\\n\"Güterverkehr\" (Goods Transport) – similar to passenger transport but not specifically mentioned. Maybe less relevant unless part of mobility.\\n\\n\"Verkehrsleitsystem\" (Traffic Control System) – specific to traffic systems, which might be part of case studies but not core.\\n\\n\"Verkehrsplanung\" (Traffic Planning) – same as above.\\n\\n\"Strategisches Management\" (Strategic Management) – could relate to the strategies discussed, but maybe too broad.\\n\\n\"Semantic Web\" – not mentioned, so likely irrelevant.\\n\\n\"Intelligentes Stromnetz\" (Smart Grid) – unrelated to the topic.\\n\\n\"Informationssystem\" (Information System) – part of the infrastructure, so maybe relevant.\\n\\n\"Industriedesign\" (Industrial Design) – not mentioned, so out.\\n\\n\"Virtuelle Produktentwicklung\" (Virtual Product Development) – similar to product development but virtual aspect not highlighted.\\n\\n\"Robotik\" (Robotics) – no mention, so no.\\n\\n\"Software\" – part of the technology, so relevant if prototypes involve software.\\n\\n\"Unternehmensbezogene Dienstleistung\" (Corporate Service) – too specific, maybe not.\\n\\n\"Benutzerfreundlichkeit\" (User-Friendliness) – the abstract mentions user interaction? Not sure, but maybe part of requirements.\\n\\n\"Testen\" (Testing) – part of prototyping, so relevant.\\n\\n\"Produkteinführung\" (Product Launch) – maybe part of development stages, but not central.\\n\\n\"Prozessmanagement\" (Process Management) – the paper discusses processes in the layer model, so relevant.\\n\\n\"Wertschöpfung\" (Value Creation) – explicitly mentioned in the abstract, so very important.\\n\\n\"Rapid Prototyping\" – the title mentions strategies for prototyping, so this is a direct match.\\n\\n\"Design\" – part of service design, so relevant.\\n\\n\"Deep learning\" – not mentioned, so no.\\n\\n\"Mobile Telekommunikation\" (Mobile Telecommunications) – part of connectivity, so maybe relevant.\\n\\n\"Unternehmenskooperation\" (Corporate Cooperation) – not discussed, so out.\\n\\n\"Betriebliches Informationssystem\" (Enterprise Information System) – part of IT infrastructure, so maybe.\\n\\nNow, organizing them by relevance. The most critical topics would be those directly mentioned in the title or abstract. \\n\\nStarting with \"Prototyp\" (Prototype), \"Wertschöpfung\" (Value Creation), \"Internet der Dinge\" (IoT), \"Mobilität\" (Mobility), \"Vorgehensmodell\" (Methodology Model), \"Dienstleistung\" (Service), \"Smart City\" might be less relevant unless mobility ties into urban contexts, but maybe keep it lower. \"Produktentwicklung\" (Product Development) is somewhat relevant but maybe less than others. \"Informationstechnik\" (IT), \"Serviceorientierte Architektur\" (SOA) if applicable. \"Rapid Prototyping\" is a key strategy mentioned. \"Mobilität 4.0\" is specific to the case study. \"Testen\" (Testing) is part of prototyping. \"Prozessmanagement\" (Process Management) is part of the layer model. \"Software Engineering\" and \"Informationssystem\" are supporting technologies. \"Geschäftsmodell\" (Business Model) relates to value creation. \"Mobile Computing\" and \"Mobile Telekommunikation\" support connectivity. \"Innovation\" and \"Innovationsmanagement\" are central to the strategies. \"Digitalisierung\" (Digitization) is foundational. \"Benutzerfreundlichkeit\" (User-Friendliness) might be part of requirements. \"Wertschöpfung\" is already listed. \\n\\nRemoving the less relevant ones like \"Unternehmen\", \"Nachhaltigkeit\", \"Hybrides Leistungsbündel\", etc. Adding any missing terms? The abstract mentions \"layer model\", but \"Vorgehensmodell\" covers methodology. \"Case studies from mobility sector\" so \"Mobilität\" and \"Mobilität 4.0\" are in. \"Requirements elicitation\" isn\\'t in the topics, but maybe covered under \"Vorgehensmodell\".\\n\\nFinal list ordered by relevance:\\n\\n1. Prototyp\\n2. Wertschöpfung\\n3. Internet der Dinge\\n4. Mobilität\\n5. Vorgehensmodell\\n6. Dienstleistung\\n7. Rapid Prototyping\\n8. Mobilität 4.0\\n9. Testen\\n10. Prozessmanagement\\n11. Serviceorientierte Architektur\\n12. Informationstechnik\\n13. Software Engineering\\n14. Informationssystem\\n15. Geschäftsmodell\\n16. Mobile Computing\\n17. Mobile Telekommunikation\\n18. Innovationsmanagement\\n19. Innovation\\n20. Digitalisierung\\n21. Benutzerfreundlichkeit\\n22. Produktentwicklung\\n23. Smart City (maybe lower but still relevant)\\n24. Personverkehr (specific case study)\\n25. Strategisches Management (if considered part of the strategies)\\nWait, maybe some of these can be reordered higher. Let me check again.\\n\\nThe most central are Prototype, Value Creation, IoT, Mobility. Then Methodology Model, Service. Rapid Prototyping is a specific technique. Testing is part of prototyping. Process Management is part of the layer model. Business Model relates to value creation. The rest follow. Maybe \"Personenverkehr\" is part of mobility case studies, so under mobility. \"Smart City\" might be less central unless the case studies are in cities, but the abstract says mobility sector, which could include both urban and other. But maybe keep it lower. \\n\\nAlso, \"Produktentwicklung\" might be less relevant than service-related terms. \"Digitalisierung\" is broader but foundational. \\n\\nI think that\\'s a reasonable order. Now, compiling the final list accordingly, removing the irrelevant ones and ordering by relevance.\\n</think>\\n\\n### Final topic list\\n  - Prototyp\\n  - Wertschöpfung\\n  - Internet der Dinge\\n  - Mobilität\\n  - Vorgehensmodell\\n  - Dienstleistung\\n  - Rapid Prototyping\\n  - Mobilität 4.0\\n  - Testen\\n  - Prozessmanagement\\n  - Serviceorientierte Architektur\\n  - Informationstechnik\\n  - Software Engineering\\n  - Informationssystem\\n  - Geschäftsmodell\\n  - Mobile Computing\\n  - Mobile Telekommunikation\\n  - Innovationsmanagement\\n  - Innovation\\n  - Digitalisierung\\n  - Benutzerfreundlichkeit\\n  - Produktentwicklung\\n  - Smart City\\n  - Personenverkehr\\n  - Strategisches Management',\n",
       " 'used_seconds': 23.58415722846985}"
      ]
     },
     "execution_count": 32,
     "metadata": {},
     "output_type": "execute_result"
    }
   ],
   "source": [
    "data = json.load(llm_out_files[0].open(\"r\"))\n",
    "#pprint(data['answer'])\n",
    "data"
   ]
  }
 ],
 "metadata": {
  "kernelspec": {
   "display_name": "llms4subjects-s_Ootod2-py3.10",
   "language": "python",
   "name": "python3"
  },
  "language_info": {
   "codemirror_mode": {
    "name": "ipython",
    "version": 3
   },
   "file_extension": ".py",
   "mimetype": "text/x-python",
   "name": "python",
   "nbconvert_exporter": "python",
   "pygments_lexer": "ipython3",
   "version": "3.10.9"
  }
 },
 "nbformat": 4,
 "nbformat_minor": 2
}
