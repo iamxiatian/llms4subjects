{
 "cells": [
  {
   "cell_type": "markdown",
   "metadata": {},
   "source": [
    "# Evaluation"
   ]
  },
  {
   "cell_type": "markdown",
   "metadata": {},
   "source": [
    "## P@K\n",
    "\n",
    "$P@k=\\dfrac{TP@k}{TP@k+FP@k}$"
   ]
  },
  {
   "cell_type": "code",
   "execution_count": 1,
   "metadata": {},
   "outputs": [],
   "source": [
    "from llms4subjects.instance import EmbeddingQuery as EmbeddingQuery\n",
    "from llms4subjects.subject import subject_db_all as subject_db\n",
    "from llms4subjects.util import rm_leading_blanks\n",
    "\n",
    "def make_examples(title:str, abstract:str, dataset_type:str=\"all\", topk = 5) -> str:\n",
    "    text = f\"\"\"title:{title}\\nabstract:{abstract}\"\"\"\n",
    "    eq = EmbeddingQuery(f\"./db/instance/{dataset_type}\")\n",
    "    instances = eq.get_instances(text, topk)\n",
    "    examples = []\n",
    "    for i, inst in enumerate(instances, start=1):\n",
    "        gnd_names = [subject_db.get_name_by_code(c) for c in inst.gnd_codes]\n",
    "        words = inst.abstract.split(\" \")\n",
    "        if len(words) > 500:\n",
    "            words = words[0:500]\n",
    "            words.append(\"...\")\n",
    "        words = \" \".join(words)\n",
    "        names = \", \".join([f'\"{name}\"' for name in gnd_names])\n",
    "        examples.append(rm_leading_blanks(f\"\"\"## Example {i}\n",
    "        - Title: ```{inst.title}```\n",
    "        - Abstract: ```{words}``` \n",
    "        - Subject: [{names}]\n",
    "        \"\"\"))\n",
    "        \n",
    "    return \"\\n\".join(examples)"
   ]
  },
  {
   "cell_type": "code",
   "execution_count": 2,
   "metadata": {},
   "outputs": [
    {
     "name": "stderr",
     "output_type": "stream",
     "text": [
      "  0%|          | 0/6980 [00:00<?, ?it/s]"
     ]
    },
    {
     "name": "stderr",
     "output_type": "stream",
     "text": [
      "100%|██████████| 6980/6980 [00:00<00:00, 15617.42it/s]\n"
     ]
    }
   ],
   "source": [
    "from llms4subjects.simple_predict import get_dev_dataset\n",
    "\n",
    "samples = get_dev_dataset(\"core\")\n",
    "sample = samples[0]\n",
    "title, abstract = sample[\"title\"], sample[\"abstract\"]\n",
    "subjects = sample[\"true_names\"]"
   ]
  },
  {
   "cell_type": "code",
   "execution_count": 3,
   "metadata": {},
   "outputs": [
    {
     "name": "stdout",
     "output_type": "stream",
     "text": [
      "## Example 1\n",
      "- Title: ```Macht und Ohnmacht sozialpädagogischer Hilfe : biografische Perspektiven auf pädagogisch begleitete Übergänge```\n",
      "- Abstract: ```For disadvantaged young people, (social) pedagogical help in the transition from school to (vocational) training is of great importance in shaping these transitions. A longitudinal study will focus on the young people participating in transition assistance and question how (social) educational assistance can become biographically relevant for them. The transitions constitute a process between biographical processes of appropriation and education and institutional regulation. Für benachteiligte Jugendliche besitzt (sozial-)pädagogische Hilfe im Übergang von der Schule in die Ausbildung eine hohe Bedeutung für die Gestaltung dieser Übergänge. Mittels einer Längsschnittstudie wird der Blick auf die an Übergangshilfen teilnehmenden Jugendlichen gerichtet und gefragt, wie (sozial-)pädagogische Hilfe für Jugendliche biografisch relevant werden kann. Wie vollziehen sich Übergangsprozesse zwischen biografischen Aneignungs- und Bildungsprozessen und institutioneller Regulierung?``` \n",
      "- Subject: [\"Empirische Pädagogik\", \"Schule\", \"Berufsorientierung\"]\n",
      "\n",
      "## Example 2\n",
      "- Title: ```Übergänge hinter Gittern : Übergangserfahrungen junger Menschen von Haft in Freiheit im Spiegel institutioneller Bedingungen```\n",
      "- Abstract: ```Die Entlassung aus der Jugendstrafhaft konfrontiert junge Menschen mit Übergängen, deren Bewältigung komplexe Anforderungen an sie stellt und vielfältige Handlungskompetenzen erfordert. In den Bundesländern wurde ein institutionelles Übergangsmanagement eingeführt, um Betroffene frühzeitig und auch nach der Entlassung zu unterstützen. Die Autorin untersucht Übergangsanforderungen und ihre Bewältigungsformen anhand der Verschränkung einer subjektorientierten mit einer strukturellen Betrachtung. Sie rekonstruiert individuelle Übergangserfahrungen junger Männer sowie die Leistungen und Grenzen der Übergangsbegleitung durch die totale Institution Gefängnis.   (Verlagstext)``` \n",
      "- Subject: [\"Jugendkriminalität\", \"Jugendstrafvollzug\", \"Jugendstrafe\", \"Entlassung\"]\n",
      "\n",
      "## Example 3\n",
      "- Title: ```Handbuch Übergänge```\n",
      "- Abstract: ```Übergänge bezeichnen soziale Zustandswechsel in Lebenslauf und Biographie. Sie sind Kristallisationspunkte sozialer Integration und individueller Lebensbewältigung. Das Handbuch bietet einen Überblick über die sozialwissenschaftliche Forschung zu Übergängen und sozialisations- und bildungstheoretische Zugänge. Es enthält ausserdem Anregungen für die Diskussionen in Bildung und sozialen Diensten``` \n",
      "- Subject: [\"Übergang\", \"Lebenslauf\"]\n",
      "\n",
      "## Example 4\n",
      "- Title: ```Transitionen : Fähigkeit von Kindern in Tageseinrichtungen fördern, Veränderungen erfolgreich zu bewältigen```\n",
      "- Abstract: ```Kinder wachsen heute in einer Gesellschaft auf, die ständigen Veränderungen unterworfen ist. Sie müssen sich auf ein Leben einstellen, das vom Einzelnen ein hohes Maß an Selbstvertrauen, Selbstsicherheit, Entscheidungsfreude und Flexibilität verlangt und in dem es gilt, die vielen Übergänge erfolgreich zu bewältigen. Dies gilt insbesondere auch für die Übergänge von der Familie in den Kindergarten und vom Kindergarten in die Grundschule. Sie stellen eine pädagogische Herausforderung und eine bisher wenig befriedigend gelöste Aufgabe im Bildungsverlauf dar. In diesem Begleitbuch zum Bayerischen Bildungs- und Erziehungsplan werden die bisherigen Ansätze der Ausgestaltung solcher Übergänge kritisch beleuchtet. Zudem weist es auf der Grundlage eines neuen Konzeptes Wege auf, wie Eltern, ErzieherInnen und GrundschullehrerInnen solche Übergänge unter Berücksichtigung der kindlichen Bedürfnisse aktiv gestalten können``` \n",
      "- Subject: [\"Einschulung\", \"Grundschule\", \"Übergang\", \"Sozialer Wandel\", \"Kindergarten\", \"Kleinkind\", \"Kindergartenerziehung\", \"Kindertagesstätte\"]\n",
      "\n",
      "## Example 5\n",
      "- Title: ```Übergänge in Arbeit gestalten : Beratungsdienstleistungen im Vergleich```\n",
      "- Abstract: ```In der Vergangenheit hat das Feld der personenbezogenen Dienstleistungen zur Begleitung und Beratung von Übergängen in Arbeit in Politik, Praxis und Forschung zunehmend an Bedeutung gewonnen. Übergangsberatung ist durch unterschiedlichste Anbieter und Angebotsstrukturen geprägt. Im Buch wird erstmals ein datenbegründeter, systematischer Vergleich aus einer erziehungswissenschaftlichen Perspektive vorgenommen, indem das Prozessieren von Übergängen in Arbeit in den Feldern Berufsorientierung, Berufsberatung, Early School Leaving, Transfergesellschaften und Coaching vergleichend untersucht wird``` \n",
      "- Subject: [\"Berufsberatung\", \"Dienstleistungsangebot\", \"Berufsorientierung\", \"Übergang\"]\n",
      "\n"
     ]
    }
   ],
   "source": [
    "examples = make_examples(title, abstract)\n",
    "print(examples)"
   ]
  },
  {
   "cell_type": "code",
   "execution_count": 4,
   "metadata": {},
   "outputs": [],
   "source": [
    "\n",
    "def make_prompt(title:str, abstract:str) -> str:\n",
    "    examples = make_examples(title, abstract)\n",
    "    words = abstract.split(\" \")\n",
    "    if len(words) > 500:\n",
    "        words = words[0:500]\n",
    "        words.append(\"...\")\n",
    "    words = \" \".join(words)\n",
    "    \n",
    "    return rm_leading_blanks(f\"\"\"You are a librarian responsible for assigning a set of subject tags to technical documents based on their titles and abstracts. Here are some examples:\n",
    "\n",
    "    {examples}\n",
    "\n",
    "    Now, please complete the subject list based on the following title and abstract:\n",
    "    - Title: {title}\n",
    "    - Abstract: {words}\n",
    "    - Subjects: \n",
    "    \"\"\")"
   ]
  },
  {
   "cell_type": "code",
   "execution_count": 5,
   "metadata": {},
   "outputs": [
    {
     "name": "stdout",
     "output_type": "stream",
     "text": [
      "You are a librarian responsible for assigning a set of subject tags to technical documents based on their titles and abstracts. Here are some examples:\n",
      "\n",
      "## Example 1\n",
      "- Title: ```Macht und Ohnmacht sozialpädagogischer Hilfe : biografische Perspektiven auf pädagogisch begleitete Übergänge```\n",
      "- Abstract: ```For disadvantaged young people, (social) pedagogical help in the transition from school to (vocational) training is of great importance in shaping these transitions. A longitudinal study will focus on the young people participating in transition assistance and question how (social) educational assistance can become biographically relevant for them. The transitions constitute a process between biographical processes of appropriation and education and institutional regulation. Für benachteiligte Jugendliche besitzt (sozial-)pädagogische Hilfe im Übergang von der Schule in die Ausbildung eine hohe Bedeutung für die Gestaltung dieser Übergänge. Mittels einer Längsschnittstudie wird der Blick auf die an Übergangshilfen teilnehmenden Jugendlichen gerichtet und gefragt, wie (sozial-)pädagogische Hilfe für Jugendliche biografisch relevant werden kann. Wie vollziehen sich Übergangsprozesse zwischen biografischen Aneignungs- und Bildungsprozessen und institutioneller Regulierung?``` \n",
      "- Subject: [\"Empirische Pädagogik\", \"Schule\", \"Berufsorientierung\"]\n",
      "\n",
      "## Example 2\n",
      "- Title: ```Übergänge hinter Gittern : Übergangserfahrungen junger Menschen von Haft in Freiheit im Spiegel institutioneller Bedingungen```\n",
      "- Abstract: ```Die Entlassung aus der Jugendstrafhaft konfrontiert junge Menschen mit Übergängen, deren Bewältigung komplexe Anforderungen an sie stellt und vielfältige Handlungskompetenzen erfordert. In den Bundesländern wurde ein institutionelles Übergangsmanagement eingeführt, um Betroffene frühzeitig und auch nach der Entlassung zu unterstützen. Die Autorin untersucht Übergangsanforderungen und ihre Bewältigungsformen anhand der Verschränkung einer subjektorientierten mit einer strukturellen Betrachtung. Sie rekonstruiert individuelle Übergangserfahrungen junger Männer sowie die Leistungen und Grenzen der Übergangsbegleitung durch die totale Institution Gefängnis.   (Verlagstext)``` \n",
      "- Subject: [\"Jugendkriminalität\", \"Jugendstrafvollzug\", \"Jugendstrafe\", \"Entlassung\"]\n",
      "\n",
      "## Example 3\n",
      "- Title: ```Handbuch Übergänge```\n",
      "- Abstract: ```Übergänge bezeichnen soziale Zustandswechsel in Lebenslauf und Biographie. Sie sind Kristallisationspunkte sozialer Integration und individueller Lebensbewältigung. Das Handbuch bietet einen Überblick über die sozialwissenschaftliche Forschung zu Übergängen und sozialisations- und bildungstheoretische Zugänge. Es enthält ausserdem Anregungen für die Diskussionen in Bildung und sozialen Diensten``` \n",
      "- Subject: [\"Übergang\", \"Lebenslauf\"]\n",
      "\n",
      "## Example 4\n",
      "- Title: ```Transitionen : Fähigkeit von Kindern in Tageseinrichtungen fördern, Veränderungen erfolgreich zu bewältigen```\n",
      "- Abstract: ```Kinder wachsen heute in einer Gesellschaft auf, die ständigen Veränderungen unterworfen ist. Sie müssen sich auf ein Leben einstellen, das vom Einzelnen ein hohes Maß an Selbstvertrauen, Selbstsicherheit, Entscheidungsfreude und Flexibilität verlangt und in dem es gilt, die vielen Übergänge erfolgreich zu bewältigen. Dies gilt insbesondere auch für die Übergänge von der Familie in den Kindergarten und vom Kindergarten in die Grundschule. Sie stellen eine pädagogische Herausforderung und eine bisher wenig befriedigend gelöste Aufgabe im Bildungsverlauf dar. In diesem Begleitbuch zum Bayerischen Bildungs- und Erziehungsplan werden die bisherigen Ansätze der Ausgestaltung solcher Übergänge kritisch beleuchtet. Zudem weist es auf der Grundlage eines neuen Konzeptes Wege auf, wie Eltern, ErzieherInnen und GrundschullehrerInnen solche Übergänge unter Berücksichtigung der kindlichen Bedürfnisse aktiv gestalten können``` \n",
      "- Subject: [\"Einschulung\", \"Grundschule\", \"Übergang\", \"Sozialer Wandel\", \"Kindergarten\", \"Kleinkind\", \"Kindergartenerziehung\", \"Kindertagesstätte\"]\n",
      "\n",
      "## Example 5\n",
      "- Title: ```Übergänge in Arbeit gestalten : Beratungsdienstleistungen im Vergleich```\n",
      "- Abstract: ```In der Vergangenheit hat das Feld der personenbezogenen Dienstleistungen zur Begleitung und Beratung von Übergängen in Arbeit in Politik, Praxis und Forschung zunehmend an Bedeutung gewonnen. Übergangsberatung ist durch unterschiedlichste Anbieter und Angebotsstrukturen geprägt. Im Buch wird erstmals ein datenbegründeter, systematischer Vergleich aus einer erziehungswissenschaftlichen Perspektive vorgenommen, indem das Prozessieren von Übergängen in Arbeit in den Feldern Berufsorientierung, Berufsberatung, Early School Leaving, Transfergesellschaften und Coaching vergleichend untersucht wird``` \n",
      "- Subject: [\"Berufsberatung\", \"Dienstleistungsangebot\", \"Berufsorientierung\", \"Übergang\"]\n",
      "\n",
      "\n",
      "Now, please complete the subject list based on the following title and abstract:\n",
      "- Title: Alltags- und Übergangspraktiken in Hilfen für junge Menschen : Zwischen Selbstbestimmung, Eigensinn und gesellschaftlichen Anpassungsforderungen\n",
      "- Abstract: Help for young people must be designed in such a way that they have a good chance at the end of the day of being able to live a self-determined life. What does everyday life in stationary aid institutions look like in order to achieve this goal? How can transitions be meaningfully designed? What social and legal policy decisions are necessary? In this volume, everyday and transitional practices in different help systems for young people are examined from different perspectives. Hilfen für junge Menschen müssen so gestaltet sein, dass diese am Ende eine gute Chance haben, selbstbestimmt leben zu können. Wie muss Alltag in stationären Hilfeeinrichtungen aussehen, damit dieses Ziel erreicht wird? Wie können Übergänge sinnvoll gestaltet werden? Welche sozialund rechtspolitischen Weichenstellungen sind notwendig? In diesem Band werden Alltags- und Übergangspraktiken in unterschiedlichen Hilfesystemen für junge Menschen aus verschiedenen Perspektiven in den Blick genommen.\n",
      "- Subjects: \n",
      "\n",
      "=============\n"
     ]
    },
    {
     "data": {
      "text/plain": [
       "{'index': 0,\n",
       " 'message': {'role': 'assistant',\n",
       "  'content': '[\"Hilfen für junge Menschen\", \"Selbstbestimmung\", \"Eigensinn\", \"Gesellschaftliche Anpassung\", \"Stationäre Hilfeeinrichtungen\", \"Alltagspraktiken\", \"Übergangspraktiken\", \"Jugendhilfe\", \"Sozialpolitik\", \"Rechtspolitik\"]',\n",
       "  'tool_calls': None},\n",
       " 'logprobs': None,\n",
       " 'finish_reason': 'stop'}"
      ]
     },
     "execution_count": 5,
     "metadata": {},
     "output_type": "execute_result"
    }
   ],
   "source": [
    "from llms4subjects.llm import LLM\n",
    "import json\n",
    "# from openai import OpenAI\n",
    "\n",
    "# base_url = \"http://intra-umei-endeep-llm-beta.midu.cc/v1\"\n",
    "# api_key = \"k\"\n",
    "# model_name = \"llama-3-8b-instruct-awq\"\n",
    "# client = OpenAI(base_url=base_url,api_key=api_key)\n",
    "\n",
    "base_url = \"http://10.96.1.43:3087/v1\"\n",
    "api_key = None\n",
    "model_name = \"/data/app/yangyahe/base_model/LLM-Research-Meta-Llama-3.1-8B-Instruct-AWQ-INT4\"\n",
    "\n",
    "\n",
    "client = LLM(base_url, model=model_name)\n",
    "\n",
    "\n",
    "def gec_messages(text):\n",
    "    # res_format = \"corrected_text:\"\n",
    "    messages = [\n",
    "        {\"role\": \"system\", \"content\": \"You are an English grammar and error checker, please correct the following text. Please output only the corrected result and do not output other unnecessary information\"},\n",
    "        {\"role\": \"user\", \"content\": \"Input: hhaha, how are you?\"},\n",
    "        {\"role\": \"assistant\", \"content\": \"Output: hhaha, hoW are you?\"}, \n",
    "        {\"role\": \"user\", \"content\": \"Input: {}\".format(text)},\n",
    "    ]\n",
    "    return messages\n",
    " \n",
    "def chat(text):\n",
    "    messages = gec_messages(text)\n",
    "    # completion = client.chat.completions.create(\n",
    "    #         model=model_name,\n",
    "    #         messages=messages,\n",
    "    #         extra_body=sampling_kwargs,\n",
    "    #         extra_headers={\"podName\":\"Local\", \"podNameSpace\":\"beta-mlc\"}\n",
    "    #         )\n",
    "    # print(completion)\n",
    "    #res = completion.choices[0].message.content\n",
    "    res = client.chat_messages(messages)\n",
    "    return res\n",
    "\n",
    "text = make_prompt(title, abstract)\n",
    "print(text)\n",
    "print(\"=============\")\n",
    "data = chat(text)\n",
    "data = json.loads(data)\n",
    "data[\"choices\"][0]"
   ]
  },
  {
   "cell_type": "code",
   "execution_count": null,
   "metadata": {},
   "outputs": [
    {
     "name": "stdout",
     "output_type": "stream",
     "text": [
      "title: Alltags- und Übergangspraktiken in Hilfen für junge Menschen : Zwischen Selbstbestimmung, Eigensinn und gesellschaftlichen Anpassungsforderungen\n",
      "abstract: Help for young people must be designed in such a way that they have a good chance at the end of the day of being able to live a self-determined life. What does everyday life in stationary aid institutions look like in order to achieve this goal? How can transitions be meaningfully designed? What social and legal policy decisions are necessary? In this volume, everyday and transitional practices in different help systems for young people are examined from different perspectives. Hilfen für junge Menschen müssen so gestaltet sein, dass diese am Ende eine gute Chance haben, selbstbestimmt leben zu können. Wie muss Alltag in stationären Hilfeeinrichtungen aussehen, damit dieses Ziel erreicht wird? Wie können Übergänge sinnvoll gestaltet werden? Welche sozialund rechtspolitischen Weichenstellungen sind notwendig? In diesem Band werden Alltags- und Übergangspraktiken in unterschiedlichen Hilfesystemen für junge Menschen aus verschiedenen Perspektiven in den Blick genommen.\n",
      "truth:\n",
      "\t Jugendstrafvollzug , code: gnd:4028944-8\n",
      "\t Jugendpsychiatrie , code: gnd:4028921-7\n",
      "\t Erziehungshilfe , code: gnd:4015493-2\n",
      "\t Jugendhilfe , code: gnd:4028892-4\n",
      "\t Auslandsaufenthalt , code: gnd:4256960-6\n",
      "\t Übergang , code: gnd:4681060-2\n",
      "\t Individualpädagogik , code: gnd:4161545-1\n",
      "predicated:\n",
      "\t Hilfen für junge Menschen , code: gnd:4162823-8\n",
      "\t Selbstbestimmung , code: gnd:4054390-0\n",
      "\t Eigensinn , code: gnd:4151200-5\n",
      "\t Gesellschaftliche Anpassung , code: gnd:4181920-2\n",
      "\t Stationäre Hilfeeinrichtungen , code: gnd:4297436-7\n",
      "\t Alltagspraktiken , code: gnd:4222399-4\n",
      "\t Übergangspraktiken , code: gnd:4180230-5\n",
      "\t Jugendhilfe , code: gnd:4028863-8\n",
      "\t Sozialpolitik , code: gnd:4055879-4\n",
      "\t Rechtspolitik , code: gnd:4384192-2\n"
     ]
    }
   ],
   "source": [
    "from llms4subjects.subject import subject_eq\n",
    "\n",
    "items = data[\"choices\"][0][\"message\"][\"content\"]\n",
    "items = json.loads(items)\n",
    "print(\"title:\", title)\n",
    "print(\"abstract:\", abstract)\n",
    "print(\"truth:\")\n",
    "for item in subjects:\n",
    "    code = subject_db.get_code_by_name(item)\n",
    "    print(\"\\t\",item, \", code:\", code)\n",
    "        \n",
    "print(\"predicated:\")\n",
    "for item in items:\n",
    "    code = subject_eq.get_code_by_name(item)\n",
    "    name = subject_db.get_name_by_code(code)\n",
    "    print(\"\\t\",name, \", code:\", code)"
   ]
  },
  {
   "cell_type": "code",
   "execution_count": 1,
   "metadata": {},
   "outputs": [
    {
     "name": "stderr",
     "output_type": "stream",
     "text": [
      "100%|██████████| 6980/6980 [00:00<00:00, 15048.90it/s]"
     ]
    },
    {
     "name": "stdout",
     "output_type": "stream",
     "text": [
      "Alltags- und Übergangspraktiken in Hilfen für junge Menschen : Zwischen Selbstbestimmung, Eigensinn und gesellschaftlichen Anpassungsforderungen Help for young people must be designed in such a way that they have a good chance at the end of the day of being able to live a self-determined life. What does everyday life in stationary aid institutions look like in order to achieve this goal? How can transitions be meaningfully designed? What social and legal policy decisions are necessary? In this volume, everyday and transitional practices in different help systems for young people are examined from different perspectives. Hilfen für junge Menschen müssen so gestaltet sein, dass diese am Ende eine gute Chance haben, selbstbestimmt leben zu können. Wie muss Alltag in stationären Hilfeeinrichtungen aussehen, damit dieses Ziel erreicht wird? Wie können Übergänge sinnvoll gestaltet werden? Welche sozialund rechtspolitischen Weichenstellungen sind notwendig? In diesem Band werden Alltags- und Übergangspraktiken in unterschiedlichen Hilfesystemen für junge Menschen aus verschiedenen Perspektiven in den Blick genommen.\n"
     ]
    },
    {
     "name": "stderr",
     "output_type": "stream",
     "text": [
      "\n"
     ]
    }
   ],
   "source": [
    "from llms4subjects.predict.predict_llm import PredictByExamples\n",
    "from llms4subjects.eval import get_dev_dataset\n",
    "\n",
    "samples = get_dev_dataset(\"core\")\n",
    "sample = samples[0]\n",
    "title, abstract = sample[\"title\"], sample[\"abstract\"]\n",
    "subjects = sample[\"true_names\"]\n",
    "predictor = PredictByExamples()\n",
    "print(title, abstract)\n"
   ]
  },
  {
   "cell_type": "code",
   "execution_count": 2,
   "metadata": {},
   "outputs": [
    {
     "name": "stdout",
     "output_type": "stream",
     "text": [
      "['gnd:4028892-4', 'gnd:4135889-2', 'gnd:4486686-0', 'gnd:4181920-2', 'gnd:4681060-2', 'gnd:4297436-7', 'gnd:4199925-3']\n",
      "PREDICT: ['Jugendhilfe', 'Selbstbestimmung', 'Eigensinn', 'Soziale Anpassung', 'Übergang', 'Stationäre Behindertenhilfe', 'Jugendsozialarbeit']\n",
      "TRUE: ['Jugendstrafvollzug', 'Jugendpsychiatrie', 'Erziehungshilfe', 'Jugendhilfe', 'Auslandsaufenthalt', 'Übergang', 'Individualpädagogik']\n"
     ]
    }
   ],
   "source": [
    "codes, names = predictor.predict(title, abstract)\n",
    "print(codes)\n",
    "print(\"PREDICT:\", names)\n",
    "print(\"TRUE:\", subjects)"
   ]
  },
  {
   "cell_type": "code",
   "execution_count": 4,
   "metadata": {},
   "outputs": [
    {
     "name": "stdout",
     "output_type": "stream",
     "text": [
      "['gnd:4681060-2', 'gnd:4140124-4', 'gnd:4128101-9', 'gnd:4028893-6', 'gnd:4070704-0', 'gnd:4005878-5', 'gnd:4053474-1', 'gnd:4028944-8', 'gnd:4034869-6', 'gnd:4022349-8', 'gnd:4224244-7', 'gnd:4162867-6', 'gnd:4152363-5', 'gnd:4077587-2', 'gnd:4030581-8', 'gnd:4031081-4', 'gnd:4130244-8', 'gnd:4030638-0']\n",
      "['Übergang', 'Berufsorientierung', 'Empirische Pädagogik', 'Jugendkriminalität', 'Einschulung', 'Berufsberatung', 'Schule', 'Jugendstrafvollzug', 'Lebenslauf', 'Grundschule', 'Dienstleistungsangebot', 'Jugendstrafe', 'Entlassung', 'Sozialer Wandel', 'Kindergarten', 'Kleinkind', 'Kindergartenerziehung', 'Kindertagesstätte']\n"
     ]
    }
   ],
   "source": [
    "from llms4subjects.predict.predict_simple import PredictByInstance\n",
    "\n",
    "predictor2 = PredictByInstance()\n",
    "codes, names = predictor2.predict(title, abstract)\n",
    "print(codes)\n",
    "print(names)"
   ]
  }
 ],
 "metadata": {
  "kernelspec": {
   "display_name": "llms4subjects-s_Ootod2-py3.10",
   "language": "python",
   "name": "python3"
  },
  "language_info": {
   "codemirror_mode": {
    "name": "ipython",
    "version": 3
   },
   "file_extension": ".py",
   "mimetype": "text/x-python",
   "name": "python",
   "nbconvert_exporter": "python",
   "pygments_lexer": "ipython3",
   "version": "3.10.9"
  }
 },
 "nbformat": 4,
 "nbformat_minor": 2
}
