{
 "cells": [
  {
   "cell_type": "markdown",
   "metadata": {},
   "source": [
    "# Evaluation"
   ]
  },
  {
   "cell_type": "markdown",
   "metadata": {},
   "source": [
    "## P@K\n",
    "\n",
    "$P@k=\\dfrac{TP@k}{TP@k+FP@k}$"
   ]
  },
  {
   "cell_type": "code",
   "execution_count": 2,
   "metadata": {},
   "outputs": [
    {
     "data": {
      "text/plain": [
       "1.0"
      ]
     },
     "execution_count": 2,
     "metadata": {},
     "output_type": "execute_result"
    }
   ],
   "source": [
    "true_codes = [1,2,3]\n",
    "pred_codes = [2,1,3,4]\n",
    "\n",
    "def AP(true_codes, pred_codes) -> float:\n",
    "    ap = 0.0\n",
    "    n_matched = 0\n",
    "    for i, code in enumerate(pred_codes, start=1):\n",
    "        if code in true_codes:\n",
    "            n_matched += 1\n",
    "            ap += n_matched/i\n",
    "    ap = ap / len(true_codes)\n",
    "    return ap\n",
    "\n",
    "AP(true_codes, pred_codes)"
   ]
  },
  {
   "cell_type": "code",
   "execution_count": 3,
   "metadata": {},
   "outputs": [],
   "source": [
    "from ranx import Qrels, Run\n",
    "\n",
    "qrels_dict = { \"q_1\": { \"d_12\": 5, \"d_25\": 3 },\n",
    "               \"q_2\": { \"d_11\": 6, \"d_22\": 1 } }\n",
    "\n",
    "run_dict = { \"q_1\": { \"d_12\": 0.9, \"d_23\": 0.8, \"d_25\": 0.7,\n",
    "                      \"d_36\": 0.6, \"d_32\": 0.5, \"d_35\": 0.4  },\n",
    "             \"q_2\": { \"d_12\": 0.9, \"d_11\": 0.8, \"d_25\": 0.7,\n",
    "                      \"d_36\": 0.6, \"d_22\": 0.5, \"d_35\": 0.4  } }\n",
    "\n",
    "qrels = Qrels(qrels_dict)\n",
    "run = Run(run_dict)"
   ]
  },
  {
   "cell_type": "code",
   "execution_count": 4,
   "metadata": {},
   "outputs": [
    {
     "data": {
      "text/plain": [
       "0.7861261099276952"
      ]
     },
     "execution_count": 4,
     "metadata": {},
     "output_type": "execute_result"
    }
   ],
   "source": [
    "from ranx import evaluate\n",
    "\n",
    "# Compute score for a single metric\n",
    "evaluate(qrels, run, \"ndcg@5\")"
   ]
  },
  {
   "cell_type": "code",
   "execution_count": 5,
   "metadata": {},
   "outputs": [
    {
     "data": {
      "text/plain": [
       "{'map@5': 0.6416666666666666, 'mrr': 0.75}"
      ]
     },
     "execution_count": 5,
     "metadata": {},
     "output_type": "execute_result"
    }
   ],
   "source": [
    "evaluate(qrels, run, [\"map@5\", \"mrr\"])"
   ]
  },
  {
   "cell_type": "code",
   "execution_count": 11,
   "metadata": {},
   "outputs": [
    {
     "data": {
      "text/plain": [
       "1.0"
      ]
     },
     "execution_count": 11,
     "metadata": {},
     "output_type": "execute_result"
    }
   ],
   "source": [
    "from pandas import DataFrame\n",
    "\n",
    "qrels_df = DataFrame.from_dict({\n",
    "    \"q_id\":   [ \"q_1\",  \"q_1\",  \"q_2\",  \"q_2\"  ],\n",
    "    \"doc_id\": [ \"d_12\", \"d_25\", \"d_11\", \"d_22\" ],\n",
    "    \"score\":  [  1,      1,      1,      1     ],\n",
    "})\n",
    "\n",
    "qrels = Qrels.from_df(\n",
    "    df=qrels_df,\n",
    "    q_id_col=\"q_id\",\n",
    "    doc_id_col=\"doc_id\",\n",
    "    score_col=\"score\",\n",
    ")"
   ]
  }
 ],
 "metadata": {
  "kernelspec": {
   "display_name": "llms4subjects-s_Ootod2-py3.10",
   "language": "python",
   "name": "python3"
  },
  "language_info": {
   "codemirror_mode": {
    "name": "ipython",
    "version": 3
   },
   "file_extension": ".py",
   "mimetype": "text/x-python",
   "name": "python",
   "nbconvert_exporter": "python",
   "pygments_lexer": "ipython3",
   "version": "3.10.9"
  }
 },
 "nbformat": 4,
 "nbformat_minor": 2
}
