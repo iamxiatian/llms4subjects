{
 "cells": [
  {
   "cell_type": "markdown",
   "metadata": {},
   "source": [
    "# 数据处理"
   ]
  },
  {
   "cell_type": "markdown",
   "metadata": {},
   "source": [
    "## 根据文献相似度推荐GND Codes"
   ]
  },
  {
   "cell_type": "code",
   "execution_count": 3,
   "metadata": {},
   "outputs": [
    {
     "name": "stdout",
     "output_type": "stream",
     "text": [
      "Intelligent multimedia databases and information retrieval : advancing applications and technologies\n",
      "\t\t ['gnd:4072803-1', 'gnd:4113276-2', 'gnd:4192358-3']\n",
      "\t\t ['Information Retrieval', 'Datenbanksystem', 'Multimedia']\n",
      "Information Retrieval : Suchmodelle und Data-Mining-Verfahren für Textsammlungen und das Web\n",
      "\t\t ['gnd:4072803-1', 'gnd:4363898-3', 'gnd:4428654-5']\n",
      "\t\t ['Information Retrieval', 'World Wide Web', 'Data Mining']\n",
      "Artificial intelligence for maximizing content based image retrieval\n",
      "\t\t ['gnd:4072803-1', 'gnd:4033447-8', 'gnd:4145396-7', 'gnd:4202022-0']\n",
      "\t\t ['Information Retrieval', 'Künstliche Intelligenz', 'Bildbanksystem', 'Bildverstehen']\n",
      "Geographical information retrieval in textual corpora\n",
      "\t\t ['gnd:4194196-2', 'gnd:4072803-1', 'gnd:4020216-1']\n",
      "\t\t ['Textanalyse', 'Information Retrieval', 'Geografie']\n",
      "Looking for information : a survey of research on information seeking, needs, and behavior\n",
      "\t\t ['gnd:4057952-9', 'gnd:4026911-5', 'gnd:4121560-6', 'gnd:4072803-1']\n",
      "\t\t ['Strategie', 'Informationsbedarf', 'Recherche', 'Information Retrieval']\n"
     ]
    },
    {
     "name": "stderr",
     "output_type": "stream",
     "text": [
      "100%|██████████| 6980/6980 [00:00<00:00, 14606.64it/s]\n"
     ]
    },
    {
     "name": "stdout",
     "output_type": "stream",
     "text": [
      "(['gnd:4072803-1', 'gnd:4194196-2', 'gnd:4327470-5', 'gnd:4079013-7', 'gnd:4113276-2', 'gnd:4033447-8', 'gnd:4192358-3', 'gnd:4020216-1', 'gnd:4145396-7', 'gnd:4202022-0'], ['Information Retrieval', 'Textanalyse', 'Nanotechnologie', 'Wahrscheinlichkeitstheorie', 'Datenbanksystem', 'Künstliche Intelligenz', 'Multimedia', 'Geografie', 'Bildbanksystem', 'Bildverstehen'])\n",
      "Title:\t \"Städte für alle\" - über visionären und machbaren Städtebau : Martin Neuffer und Rudolf Koldewey ; Dokumentation des Symposiums am 20.06.2005 in Hannover\n",
      "Abstract:\t Zur Würdigung der beiden Oberstadtdirektoren Martin Neuffer und Rudolf Koldewey der Landeshauptstadt Hannover fand im Juni 2005 das Symposium statt. Die visionären Vorstellungen und Entwicklungsmöglichkeiten Martin Neuffers (\"Städte  für alle- Entwurf einer Städtepolitik\" als programmatischer Titel eines seiner Bücher) und die eher nüchterne und pragmatische Denk- und Handlungsweise Rudolf Koldeweys stellten das gedankliche Spannungsfeld dar, in dem die Einzelbeiträge dieser Dokumentation angesiedelt sind. Im Ergebnis werden die aktuellen Herausforderungen an Städtebau und Stadtentwicklung vor dem Hintergrund zum Teil gravierender Veränderungen der stadtentwicklungspolitischen Rahmenbedingungen aus Sicht der Kommunalpolitik, der Stadtforschung, der planenden Verwaltung und der Verwaltungsmodernisierung deutlich.\n",
      "Ground Truth:\n",
      "\t\tgnd:4073648-9 -> Kommunalpolitik\n",
      "\t\tgnd:4056795-3 -> Städtebau\n",
      "Predicted:\n",
      "\t\tgnd:4056754-0 -> Stadtplanung\n",
      "\t\tgnd:4326464-5 -> Nachhaltigkeit\n",
      "\t\tgnd:4127693-0 -> Utopische Architektur\n",
      "\t\tgnd:4127266-3 -> Wohnungsbaupolitik\n",
      "\t\tgnd:4049040-3 -> Regionalplanung\n",
      "\t\tgnd:4056795-3 -> Städtebau\n",
      "Matched Result:\n",
      "\t\tgnd:4073648-9 -> Kommunalpolitik: \tFAILURE\n",
      "\t\tgnd:4056795-3 -> Städtebau: \tSUCCESS\n"
     ]
    }
   ],
   "source": [
    "from llms4subjects.instance import EmbeddingQuery as InstanceEmbeddingQuery\n",
    "from llms4subjects.subject import SubjectDb\n",
    "from llms4subjects.subject import EmbeddingQuery as SubjectEmbeddingQuery\n",
    "from llms4subjects.simple_predict import by_similar_instances\n",
    "from llms4subjects.simple_predict import get_dev_dataset\n",
    "from llms4subjects.simple_predict import by_similar_subjects\n",
    "\n",
    "eq = InstanceEmbeddingQuery(\"./db/instance/core\")\n",
    "subject_db = SubjectDb(\"./db/subject/all/subject.sqlite\")\n",
    "instances = eq.get_instances(\"information retrieval\", 5)\n",
    "\n",
    "for instance in instances:\n",
    "    print(instance.title)\n",
    "    subjects = [subject_db.get_subject_by_code(c) for c in instance.gnd_codes]\n",
    "    print(\"\\t\\t\", [s.code for s in subjects])\n",
    "    print(\"\\t\\t\", [s.name for s in subjects])\n",
    "    \n",
    "\n",
    "\n",
    "core_dev_ds = get_dev_dataset(dataset_type=\"core\")\n",
    "\n",
    "title = \"Introduction to Information Retrieval\"\n",
    "codes = by_similar_instances(title)\n",
    "print(codes)\n",
    "\n",
    "doc = core_dev_ds[2]\n",
    "docid, title, abstract, true_codes, true_names = doc\n",
    "pred_codes, pred_names = by_similar_instances(title, abstract)\n",
    "print(\"Title:\\t\", title)\n",
    "print(\"Abstract:\\t\", abstract)\n",
    "print(\"Ground Truth:\")\n",
    "for code, name in zip(true_codes, true_names):\n",
    "    print(f\"\\t\\t{code} -> {name}\")\n",
    "    \n",
    "print(\"Predicted:\")\n",
    "for code, name in zip(pred_codes, pred_names):\n",
    "    print(f\"\\t\\t{code} -> {name}\")\n",
    "    \n",
    "print(\"Matched Result:\")\n",
    "for code, name in zip(true_codes, true_names):\n",
    "    if code in pred_codes:\n",
    "        print(f\"\\t\\t{code} -> {name}: \\tSUCCESS\")\n",
    "    else:\n",
    "        print(f\"\\t\\t{code} -> {name}: \\tFAILURE\")\n"
   ]
  },
  {
   "cell_type": "markdown",
   "metadata": {},
   "source": [
    "## 根据主题嵌入相似度进行推荐"
   ]
  },
  {
   "cell_type": "code",
   "execution_count": null,
   "metadata": {},
   "outputs": [],
   "source": [
    "print(\"HELLO\")"
   ]
  },
  {
   "cell_type": "code",
   "execution_count": 5,
   "metadata": {},
   "outputs": [
    {
     "name": "stdout",
     "output_type": "stream",
     "text": [
      "________________\n",
      " by subject embedding query\n",
      "---------------\n",
      "Title:\t \"Städte für alle\" - über visionären und machbaren Städtebau : Martin Neuffer und Rudolf Koldewey ; Dokumentation des Symposiums am 20.06.2005 in Hannover\n",
      "Abstract:\t Zur Würdigung der beiden Oberstadtdirektoren Martin Neuffer und Rudolf Koldewey der Landeshauptstadt Hannover fand im Juni 2005 das Symposium statt. Die visionären Vorstellungen und Entwicklungsmöglichkeiten Martin Neuffers (\"Städte  für alle- Entwurf einer Städtepolitik\" als programmatischer Titel eines seiner Bücher) und die eher nüchterne und pragmatische Denk- und Handlungsweise Rudolf Koldeweys stellten das gedankliche Spannungsfeld dar, in dem die Einzelbeiträge dieser Dokumentation angesiedelt sind. Im Ergebnis werden die aktuellen Herausforderungen an Städtebau und Stadtentwicklung vor dem Hintergrund zum Teil gravierender Veränderungen der stadtentwicklungspolitischen Rahmenbedingungen aus Sicht der Kommunalpolitik, der Stadtforschung, der planenden Verwaltung und der Verwaltungsmodernisierung deutlich.\n",
      "Ground Truth:\n",
      "\t\tgnd:4073648-9 -> Kommunalpolitik\n",
      "\t\tgnd:4056795-3 -> Städtebau\n",
      "Predicted:\n",
      "\t\tgnd:4149064-2 -> Demonstrativbauvorhaben\n",
      "\t\tgnd:1079496033 -> Ab in die Mitte! Die City-Offensive Niedersachsen\n",
      "\t\tgnd:4388066-6 -> Städtebaulicher Rahmenplan\n",
      "\t\tgnd:4672568-4 -> Nachhaltige Stadtentwicklungsprojekte umsetzen\n",
      "\t\tgnd:7758371-1 -> Regionale 2013\n",
      "\t\tgnd:4700381-9 -> Stadtumbau\n",
      "\t\tgnd:7652583-1 -> Neu-Ulm 21\n",
      "\t\tgnd:7683356-2 -> Regionale 2010\n",
      "\t\tgnd:4724403-3 -> Mannheim 21\n",
      "\t\tgnd:7740548-1 -> Ab in die Mitte! Die City-Offensive NRW\n",
      "Matched Result:\n",
      "\t\tgnd:4073648-9 -> Kommunalpolitik: \tFAILURE\n",
      "\t\tgnd:4056795-3 -> Städtebau: \tFAILURE\n",
      "Methodik None\n",
      "[('Konforme Metrik', 'gnd:4829743-4'), ('s', 'gnd:4178786-9'), ('Pseudometrik', 'gnd:4176150-9')]\n"
     ]
    }
   ],
   "source": [
    "print(\"________________\\n by subject embedding query\\n---------------\")\n",
    "pred_codes, pred_names = by_similar_subjects(title, abstract, \"core\", 10)\n",
    "\n",
    "print(\"Title:\\t\", title)\n",
    "print(\"Abstract:\\t\", abstract)\n",
    "print(\"Ground Truth:\")\n",
    "for code, name in zip(true_codes, true_names):\n",
    "    print(f\"\\t\\t{code} -> {name}\")\n",
    "    \n",
    "print(\"Predicted:\")\n",
    "for code, name in zip(pred_codes, pred_names):\n",
    "    print(f\"\\t\\t{code} -> {name}\")\n",
    "    \n",
    "print(\"Matched Result:\")\n",
    "for code, name in zip(true_codes, true_names):\n",
    "    if code in pred_codes:\n",
    "        print(f\"\\t\\t{code} -> {name}: \\tSUCCESS\")\n",
    "    else:\n",
    "        print(f\"\\t\\t{code} -> {name}: \\tFAILURE\")\n",
    "        \n",
    "subject_name = \"Methodik\"\n",
    "subject_eq = SubjectEmbeddingQuery(\"./db/subject/all/\")\n",
    "mycode = subject_db.get_code_by_name(subject_name)\n",
    "print(subject_name, mycode)\n",
    "namecodes = subject_eq.get_namecodes_by_name(subject_name, 3)\n",
    "print(namecodes)"
   ]
  },
  {
   "cell_type": "markdown",
   "metadata": {},
   "source": [
    "# LLM TEST"
   ]
  },
  {
   "cell_type": "code",
   "execution_count": 1,
   "metadata": {},
   "outputs": [],
   "source": [
    "from llms4subjects.llm import LLM\n",
    "\n",
    "bot = LLM(\n",
    "    base_url=\"http://14.152.45.76:3073/v1\",\n",
    "    model=\"llama3.3:latest\",\n",
    ")"
   ]
  },
  {
   "cell_type": "code",
   "execution_count": 15,
   "metadata": {},
   "outputs": [
    {
     "data": {
      "text/plain": [
       "'Hallo Welt, Sommer.'"
      ]
     },
     "execution_count": 15,
     "metadata": {},
     "output_type": "execute_result"
    }
   ],
   "source": [
    "import json\n",
    "\n",
    "text = \"\"\"Aufgrund der steigenden Einspeisung elektrischer Leistung durch erneuerbare Energieanlagen und der gleichzeitig voranschreitenden schrittweisen Abschaltung von konventionellen Kohlekraftwerken, steigen die Anforderungen an eine zuverl\\u00e4ssige, kosteng\\u00fcnstige und klimafreundliche Bereitstellung von Flexibilit\\u00e4ten zum Erhalt der Systemstabilit\\u00e4t. Mit der Gesamtsystembetrachtung aus Strom- und Gassektor k\\u00f6nnen durch die Kopplung neue Freiheitsgrade erschlossen werden. In diesem Beitrag wird vorgestellt, wie eine sektoren\\u00fcbergreifende Erbringung von Systemdienstleistungen vom Strom- zum Gasnetz in einem dynamischen Energiesystemmodell im Zeitbereich der Mittelzeitdynamik abgebildet werden kann. Anhand von numerischen Fallstudien wird am Beispiel von Th\\u00fcringen f\\u00fcr verschiedene Szenarien ausgewertet, inwiefern durch eine sektoren\\u00fcbergreifende Betrachtung Flexibilit\\u00e4tspotenziale realisiert und die Betriebsgrenzen und somit die Stabilit\\u00e4tsbedingungen beider Sektoren eingehalten werden k\\u00f6nnen.\",\n",
    "            \"contributor\": \"Technische Informationsbibliothek (TIB)\"\"\"\n",
    "text = \"hello world, summer.\"\n",
    "response = bot.complete(f\"Please enter the text below for translation into German. If the text is already in German, then output it directly. Output only the translation result without any other auxiliary information.\\n\\n{text}\", max_tokens=2048)\n",
    "response = json.loads(response)\n",
    "response[\"choices\"][0][\"text\"].strip()"
   ]
  },
  {
   "cell_type": "code",
   "execution_count": 9,
   "metadata": {},
   "outputs": [],
   "source": [
    "with open('TIBKAT-core.jsonline', \"r\", encoding=\"utf-8\") as f:\n",
    "    items = [json.loads(line) for line in f.readlines()]\n",
    "        "
   ]
  },
  {
   "cell_type": "code",
   "execution_count": 11,
   "metadata": {},
   "outputs": [],
   "source": [
    "e = items[0]\n",
    "e['title_DE'] = 'hello'\n",
    "e['title_EN'] = 'hello2'\n"
   ]
  },
  {
   "cell_type": "code",
   "execution_count": 12,
   "metadata": {},
   "outputs": [
    {
     "data": {
      "text/plain": [
       "{'id': '3A271864087',\n",
       " 'title': 'Evaluation zur Verbesserung der Qualität der Lehre und weitere Maßnahmen',\n",
       " 'abstract': 'Die 22. AHD-Jahrestagung umfasste Kurzreferate, Werkstattseminare und Arbeitsgruppen zu weiteren wesentlichen Massnahmen: \"Hochschuldidaktische Weiterbildung\", \"Studienzeitverkuerzung\", \"Lehrberichte\", \"Materielle und immaterielle Anreize\", \"Reformstudiengaenge\", \"Kreatives Schreiben\", \"Fachuebergreifendes Lehren und Lernen\" und \"Tutorenprogramme\", \"Verbesserung der Qualitaet der Lehre durch unterschiedliche Massnahmen am Beispiel eines TEMPUS-Projekts zwischen der Universitaet Ljubljana und der FU Berlin, Arbeitsstelle Hochschuldidaktik\" und schliesslich \"Vorschlaege des BMBW zur Verbesserung der Qualitaet der Lehre\". Gliederung: I. Eroeffnung und Einfuehrung (Gerlach, Johann Wilhelm - Webler, Wolff- Dietrich - Friedrich, Hans Rainer - Thies, Erich - Berendt, Brigitte) II. - 1. Eroeffnungsreferat zur Podiumsdiskussion: Webler, Wolff-Dietrich: \"Evaluation als geeigneter Anstoss zur Reform?\" 2. Podiumsdiskussion: \"Chancen und Grenzen umfassender Evaluations-Programme\" mit Vertretern aus Universitaeten, Ministerien und Leitern/Organisatoren von Evaluations- Programmen III. Kurzreferate: Elton, Lewis: Hochschuldidaktische Weiterbildung zur Verbesserung der Qualitaet der Lehre: Aktivitaeten und Strategien in Grossbritannien. - Friedrich, Hans Rainer: Vorschlaege des BMBW zur Verbesserung der Qualitaet der Lehre und Probleme ihrer Umsetzung. - Winter, Ekkehard: Aktionsprogramm zur Studienzeitverkuerzung als Massnahme zur Verbesserung der Qualitaet der Lehre. - Klose, Traugott: Verzahnung unterschiedlicher Massnahmen zur Verbesserung der Qualitaet von Lehre und Studium am Beispiel der FU Berlin. - Marentic-Pozarnik, Barica: Verbesserung der Qualitaet der Lehre durch unterschiedliche Massnahmen am Beispiel eines TEMPUS-Projektes zwischen der Universitaet Ljubljana und der FU Berlin, Arbeitsstelle Hochschuldidaktik IV. Werkstattseminare und Arbeitsgruppen zu folgenden Themen: WS 1: Lehrevaluation an der FU Berlin - Begruendung, Methode und Techniken (Gralki, Heinz O./Gruehn, Dieter/Hecht, Heidemarie) - WS 2: Hochschuldidaktische Aus- und Weiterbildung in der Bundesrepublik Deutschland: Bestandsaufnahme und Perspektiven (Behrendt, Brigitte) - AG 1: Evaluationskonzepte in Deutschland (Buelow-Schramm, Margaret/ Reissert, Reiner) - AG 2: Studentische Evaluation (Sohr, Sven/ Stary, Joachim) - AG 3: Nicht-standardisierte Evaluations-Verfahren (Ritter,  ...',\n",
       " 'gnd_ids': [{'@id': 'http://d-nb.info/gnd/4072560-1'},\n",
       "  {'@id': 'http://d-nb.info/gnd/4241291-2'},\n",
       "  {'@id': 'http://d-nb.info/gnd/4071034-8'},\n",
       "  {'@id': 'http://d-nb.info/gnd/4013585-8'}],\n",
       " 'title_DE': 'hello',\n",
       " 'title_EN': 'hello2'}"
      ]
     },
     "execution_count": 12,
     "metadata": {},
     "output_type": "execute_result"
    }
   ],
   "source": [
    "items[0]"
   ]
  },
  {
   "cell_type": "code",
   "execution_count": 1,
   "metadata": {},
   "outputs": [
    {
     "name": "stderr",
     "output_type": "stream",
     "text": [
      "100%|██████████| 41902/41902 [00:28<00:00, 1474.93it/s]\n"
     ]
    }
   ],
   "source": [
    "import json\n",
    "from tqdm import tqdm\n",
    "import requests\n",
    "import re\n",
    "import faiss\n",
    "from pathlib import Path\n",
    "import numpy as np\n",
    "\n",
    "dim = 1024\n",
    "index = faiss.IndexFlatIP(dim)\n",
    "with open(\"./embedding-core.txt\", \"r\", encoding=\"utf-8\") as f_in:\n",
    "    for line in tqdm(f_in.readlines()):\n",
    "        parts = re.split(r\"[,\\t]\", line)\n",
    "        value = [float(v) for v in parts[1:]]\n",
    "        value = np.array(value, dtype=np.float32).reshape(1, dim)\n",
    "        index.add(value)"
   ]
  },
  {
   "cell_type": "code",
   "execution_count": null,
   "metadata": {},
   "outputs": [],
   "source": []
  },
  {
   "cell_type": "code",
   "execution_count": 2,
   "metadata": {},
   "outputs": [],
   "source": [
    "import faiss\n",
    "from llms4subjects.instance import EmbeddingQuery"
   ]
  },
  {
   "cell_type": "code",
   "execution_count": 3,
   "metadata": {},
   "outputs": [],
   "source": [
    "index: faiss.IndexFlatIP = faiss.read_index(\"test.idx\")"
   ]
  },
  {
   "cell_type": "code",
   "execution_count": 6,
   "metadata": {},
   "outputs": [],
   "source": [
    "from llms4subjects.embedding import generate_api\n",
    "\n",
    "text = \"title: information retrieval\"\n",
    "q = np.array(generate_api(text), dtype=np.float32).reshape(1, dim)\n",
    "D, I = index.search(q, 5)"
   ]
  },
  {
   "cell_type": "code",
   "execution_count": 10,
   "metadata": {},
   "outputs": [
    {
     "data": {
      "text/plain": [
       "[23656, 21682, 21401, 23730, 12828]"
      ]
     },
     "execution_count": 10,
     "metadata": {},
     "output_type": "execute_result"
    }
   ],
   "source": [
    "I[0].tolist()"
   ]
  },
  {
   "cell_type": "code",
   "execution_count": 5,
   "metadata": {},
   "outputs": [
    {
     "data": {
      "text/plain": [
       "array([[-0.5757132 ,  0.07805479,  0.20367064, ..., -0.22702272,\n",
       "        -0.28042588,  0.16062208]], dtype=float32)"
      ]
     },
     "execution_count": 5,
     "metadata": {},
     "output_type": "execute_result"
    }
   ],
   "source": [
    "e"
   ]
  }
 ],
 "metadata": {
  "kernelspec": {
   "display_name": "llms4subjects-s_Ootod2-py3.10",
   "language": "python",
   "name": "python3"
  },
  "language_info": {
   "codemirror_mode": {
    "name": "ipython",
    "version": 3
   },
   "file_extension": ".py",
   "mimetype": "text/x-python",
   "name": "python",
   "nbconvert_exporter": "python",
   "pygments_lexer": "ipython3",
   "version": "3.10.9"
  }
 },
 "nbformat": 4,
 "nbformat_minor": 2
}
