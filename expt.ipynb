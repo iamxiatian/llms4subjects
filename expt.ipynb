{
 "cells": [
  {
   "cell_type": "markdown",
   "metadata": {},
   "source": [
    "# 数据处理"
   ]
  },
  {
   "cell_type": "code",
   "execution_count": 5,
   "metadata": {},
   "outputs": [],
   "source": [
    "\n",
    "from pyld import jsonld\n",
    "import json\n",
    "from pathlib import Path\n",
    "\n",
    "train_dir = Path(\"./data/shared-task-datasets/TIBKAT/all-subjects/data/train/\")\n",
    "train_files = train_dir.glob(\"**/*.jsonld\")"
   ]
  },
  {
   "cell_type": "code",
   "execution_count": 7,
   "metadata": {},
   "outputs": [],
   "source": [
    "jsonld_file:Path = next(train_files)"
   ]
  },
  {
   "cell_type": "code",
   "execution_count": null,
   "metadata": {},
   "outputs": [],
   "source": [
    "# 读取JSON-LD文件\n",
    "with open(jsonld_file, 'r', encoding='utf-8') as file:\n",
    "    data = json.load(file)\n",
    "\n",
    "# 使用pyld库加载和展开JSON-LD\n",
    "expanded_data = jsonld.expand(data)\n",
    "\n",
    "data = expanded_data[0]\n"
   ]
  },
  {
   "cell_type": "code",
   "execution_count": null,
   "metadata": {},
   "outputs": [
    {
     "name": "stdout",
     "output_type": "stream",
     "text": [
      "3A1066584605\n",
      "{\"id\": \"3A1066584605\", \"title\": \"Sorget nicht - Kritik der Sorge : Dimensionen der Sorge\", \"abstract\": \"Angesichts einer gesellschaftlichen Gesamtsituation, die von Krisen, Populismus, Unsicherheit und Radikalisierung geprägt zu sein scheint, empfiehlt sich Sorge als Schlüsselbegriff der modernen Gesellschaft. Der in diesem Band zusammengeführten Diskussion liegt der Gedanke einer Annäherung an die Sorge von der Sorgenfreiheit her zugrunde. Auf diese Weise könnte der vielfältige Phänomenkomplex der Sorge erschließbar sein. Sorge kann als Manifestation einer Sehnsucht nach einem Zustand der Sorgenfreiheit aufgefasst werden – sorgenfrei ohne Belastungen durch ungeliebte Tätigkeiten oder zu hohe Anforderungen. Sorge kann aber auch als aktive Sorge aufgefasst werden – sorgend-sorgenfrei im liebenden Umsorgen oder verantwortungsvollen Handeln. Durch Einbeziehung der Sorgenfreiheit wird die Ambivalenz der Sorge deutlich: als handlungshemmend und handlungsmotivierend ebenso wie als einschränkend und ermächtigend. Mit Beiträgen von Reiner Anselm, Robert Gugutzer, Annette Schnabel, Steffi Hobuß\", \"gnd_ids\": [{\"@id\": \"http://d-nb.info/gnd/4181855-6\"}, {\"@id\": \"http://d-nb.info/gnd/4077628-1\"}, {\"@id\": \"http://d-nb.info/gnd/4018326-9\"}, {\"@id\": \"http://d-nb.info/gnd/4236475-9\"}, {\"@id\": \"http://d-nb.info/gnd/4045798-9\"}, {\"@id\": \"http://d-nb.info/gnd/4020588-5\"}]}\n"
     ]
    }
   ],
   "source": [
    "\n",
    "tibkat_id = jsonld_file.stem\n",
    "print(tibkat_id)\n",
    "\n",
    "graph = iter(data[\"@graph\"])\n",
    "\n",
    "for e in data[\"@graph\"]:\n",
    "    id = e[\"@id\"]\n",
    "    if \"https://www.tib.eu/de/suchen/id/TIBKAT\" in id:\n",
    "        title = e['http://purl.org/dc/elements/1.1/title'][0][\"@value\"]\n",
    "        abstract = e['http://purl.org/dc/terms/abstract'][0][\"@value\"]\n",
    "        gnd_ids = e['http://purl.org/dc/terms/subject']\n",
    "        entry = { \"id\": tibkat_id, \"title\": title, \"abstract\": abstract, \"gnd_ids\": gnd_ids}\n",
    "        json_record = json.dumps(entry, ensure_ascii=False)\n",
    "        return json_record\n",
    "         "
   ]
  },
  {
   "cell_type": "code",
   "execution_count": 2,
   "metadata": {},
   "outputs": [
    {
     "name": "stdout",
     "output_type": "stream",
     "text": [
      "204739\n"
     ]
    }
   ],
   "source": [
    "\"\"\"GND CODE信息\"\"\"\n",
    "import json\n",
    "\n",
    "GND_subjects_all_file = \"data/shared-task-datasets/GND/dataset/GND-Subjects-all.json\"\n",
    "\n",
    "#GND_subjects_all_file = \"data/shared-task-datasets/GND/dataset/GND-Subjects-tib-core.json\"\n",
    "\n",
    "with open(GND_subjects_all_file, 'r', encoding='utf-8') as f:\n",
    "    # 使用json.load()方法将文件内容解析为Python对象\n",
    "    subjects = json.load(f)\n",
    "print(len(subjects))"
   ]
  },
  {
   "cell_type": "code",
   "execution_count": 4,
   "metadata": {},
   "outputs": [
    {
     "data": {
      "text/plain": [
       "{'Code': 'gnd:4068129-4',\n",
       " 'Classification Number': '00',\n",
       " 'Classification Name': 'Unspezifische Allgemeinwörter',\n",
       " 'Name': 'Zurechnung',\n",
       " 'Alternate Name': ['Zurechenbarkeit', 'Imputation'],\n",
       " 'Related Subjects': [],\n",
       " 'Source': 'M',\n",
       " 'Definition': 'Verknüpfe mit Anwendungsgebiet'}"
      ]
     },
     "execution_count": 4,
     "metadata": {},
     "output_type": "execute_result"
    }
   ],
   "source": [
    "subjects[10]"
   ]
  },
  {
   "cell_type": "code",
   "execution_count": null,
   "metadata": {},
   "outputs": [],
   "source": [
    "subjects[10]"
   ]
  },
  {
   "cell_type": "code",
   "execution_count": 1,
   "metadata": {},
   "outputs": [],
   "source": [
    "from llms4subjects import subject\n",
    "cores = { e['Code']: e for e in subject.subjects_core}\n",
    "alls =  { e['Code']: e for e in subject.subjects_all}\n",
    "\n",
    "# 验证cores中的数据，都在alls中\n",
    "for code, e in cores.items():\n",
    "    a = alls[code]\n",
    "    if a['Name'] != e['Name']:\n",
    "        print('Error')"
   ]
  },
  {
   "cell_type": "code",
   "execution_count": 5,
   "metadata": {},
   "outputs": [
    {
     "data": {
      "text/plain": [
       "{'Code': 'gnd:4072560-1',\n",
       " 'Classification Number': '6.6',\n",
       " 'Classification Name': 'Hochschule',\n",
       " 'Name': 'Hochschule',\n",
       " 'Alternate Name': ['Hochschulwesen', 'Hochschulsystem', 'Hochschulen'],\n",
       " 'Related Subjects': ['Tertiärbereich'],\n",
       " 'Source': 'M'}"
      ]
     },
     "execution_count": 5,
     "metadata": {},
     "output_type": "execute_result"
    }
   ],
   "source": [
    "subject.subjects_core[0]\n",
    "alls['gnd:4072560-1']"
   ]
  },
  {
   "cell_type": "code",
   "execution_count": null,
   "metadata": {},
   "outputs": [],
   "source": [
    "names = []\n",
    "for entry in subject.subjects_all:\n",
    "    names.append(entry['Classification Name'])\n",
    "    names.append(entry['Name'])\n",
    "    if \"Alternate Name\" in entry:\n",
    "        names.extend(entry[\"Alternate Name\"])\n",
    "    if \"Related Subjects\" in entry:\n",
    "        names.extend(entry[\"Related Subjects\"])\n",
    "        \n",
    "names = set(names)\n"
   ]
  },
  {
   "cell_type": "code",
   "execution_count": null,
   "metadata": {},
   "outputs": [
    {
     "name": "stdout",
     "output_type": "stream",
     "text": [
      "846846\n"
     ]
    },
    {
     "data": {
      "text/plain": [
       "368013"
      ]
     },
     "execution_count": 10,
     "metadata": {},
     "output_type": "execute_result"
    }
   ],
   "source": [
    "print(len(names))\n",
    "len()"
   ]
  },
  {
   "cell_type": "code",
   "execution_count": 1,
   "metadata": {},
   "outputs": [],
   "source": [
    "from llms4subjects.llm import LLM\n",
    "\n",
    "bot = LLM(\n",
    "    base_url=\"http://14.152.45.76:3073/v1\",\n",
    "    model=\"llama3.3:latest\",\n",
    ")"
   ]
  },
  {
   "cell_type": "code",
   "execution_count": 15,
   "metadata": {},
   "outputs": [
    {
     "data": {
      "text/plain": [
       "'Hallo Welt, Sommer.'"
      ]
     },
     "execution_count": 15,
     "metadata": {},
     "output_type": "execute_result"
    }
   ],
   "source": [
    "import json\n",
    "\n",
    "text = \"\"\"Aufgrund der steigenden Einspeisung elektrischer Leistung durch erneuerbare Energieanlagen und der gleichzeitig voranschreitenden schrittweisen Abschaltung von konventionellen Kohlekraftwerken, steigen die Anforderungen an eine zuverl\\u00e4ssige, kosteng\\u00fcnstige und klimafreundliche Bereitstellung von Flexibilit\\u00e4ten zum Erhalt der Systemstabilit\\u00e4t. Mit der Gesamtsystembetrachtung aus Strom- und Gassektor k\\u00f6nnen durch die Kopplung neue Freiheitsgrade erschlossen werden. In diesem Beitrag wird vorgestellt, wie eine sektoren\\u00fcbergreifende Erbringung von Systemdienstleistungen vom Strom- zum Gasnetz in einem dynamischen Energiesystemmodell im Zeitbereich der Mittelzeitdynamik abgebildet werden kann. Anhand von numerischen Fallstudien wird am Beispiel von Th\\u00fcringen f\\u00fcr verschiedene Szenarien ausgewertet, inwiefern durch eine sektoren\\u00fcbergreifende Betrachtung Flexibilit\\u00e4tspotenziale realisiert und die Betriebsgrenzen und somit die Stabilit\\u00e4tsbedingungen beider Sektoren eingehalten werden k\\u00f6nnen.\",\n",
    "            \"contributor\": \"Technische Informationsbibliothek (TIB)\"\"\"\n",
    "text = \"hello world, summer.\"\n",
    "response = bot.complete(f\"Please enter the text below for translation into German. If the text is already in German, then output it directly. Output only the translation result without any other auxiliary information.\\n\\n{text}\", max_tokens=2048)\n",
    "response = json.loads(response)\n",
    "response[\"choices\"][0][\"text\"].strip()"
   ]
  },
  {
   "cell_type": "code",
   "execution_count": 9,
   "metadata": {},
   "outputs": [],
   "source": [
    "with open('TIBKAT-core.jsonline', \"r\", encoding=\"utf-8\") as f:\n",
    "    items = [json.loads(line) for line in f.readlines()]\n",
    "        "
   ]
  },
  {
   "cell_type": "code",
   "execution_count": 11,
   "metadata": {},
   "outputs": [],
   "source": [
    "e = items[0]\n",
    "e['title_DE'] = 'hello'\n",
    "e['title_EN'] = 'hello2'\n"
   ]
  },
  {
   "cell_type": "code",
   "execution_count": 12,
   "metadata": {},
   "outputs": [
    {
     "data": {
      "text/plain": [
       "{'id': '3A271864087',\n",
       " 'title': 'Evaluation zur Verbesserung der Qualität der Lehre und weitere Maßnahmen',\n",
       " 'abstract': 'Die 22. AHD-Jahrestagung umfasste Kurzreferate, Werkstattseminare und Arbeitsgruppen zu weiteren wesentlichen Massnahmen: \"Hochschuldidaktische Weiterbildung\", \"Studienzeitverkuerzung\", \"Lehrberichte\", \"Materielle und immaterielle Anreize\", \"Reformstudiengaenge\", \"Kreatives Schreiben\", \"Fachuebergreifendes Lehren und Lernen\" und \"Tutorenprogramme\", \"Verbesserung der Qualitaet der Lehre durch unterschiedliche Massnahmen am Beispiel eines TEMPUS-Projekts zwischen der Universitaet Ljubljana und der FU Berlin, Arbeitsstelle Hochschuldidaktik\" und schliesslich \"Vorschlaege des BMBW zur Verbesserung der Qualitaet der Lehre\". Gliederung: I. Eroeffnung und Einfuehrung (Gerlach, Johann Wilhelm - Webler, Wolff- Dietrich - Friedrich, Hans Rainer - Thies, Erich - Berendt, Brigitte) II. - 1. Eroeffnungsreferat zur Podiumsdiskussion: Webler, Wolff-Dietrich: \"Evaluation als geeigneter Anstoss zur Reform?\" 2. Podiumsdiskussion: \"Chancen und Grenzen umfassender Evaluations-Programme\" mit Vertretern aus Universitaeten, Ministerien und Leitern/Organisatoren von Evaluations- Programmen III. Kurzreferate: Elton, Lewis: Hochschuldidaktische Weiterbildung zur Verbesserung der Qualitaet der Lehre: Aktivitaeten und Strategien in Grossbritannien. - Friedrich, Hans Rainer: Vorschlaege des BMBW zur Verbesserung der Qualitaet der Lehre und Probleme ihrer Umsetzung. - Winter, Ekkehard: Aktionsprogramm zur Studienzeitverkuerzung als Massnahme zur Verbesserung der Qualitaet der Lehre. - Klose, Traugott: Verzahnung unterschiedlicher Massnahmen zur Verbesserung der Qualitaet von Lehre und Studium am Beispiel der FU Berlin. - Marentic-Pozarnik, Barica: Verbesserung der Qualitaet der Lehre durch unterschiedliche Massnahmen am Beispiel eines TEMPUS-Projektes zwischen der Universitaet Ljubljana und der FU Berlin, Arbeitsstelle Hochschuldidaktik IV. Werkstattseminare und Arbeitsgruppen zu folgenden Themen: WS 1: Lehrevaluation an der FU Berlin - Begruendung, Methode und Techniken (Gralki, Heinz O./Gruehn, Dieter/Hecht, Heidemarie) - WS 2: Hochschuldidaktische Aus- und Weiterbildung in der Bundesrepublik Deutschland: Bestandsaufnahme und Perspektiven (Behrendt, Brigitte) - AG 1: Evaluationskonzepte in Deutschland (Buelow-Schramm, Margaret/ Reissert, Reiner) - AG 2: Studentische Evaluation (Sohr, Sven/ Stary, Joachim) - AG 3: Nicht-standardisierte Evaluations-Verfahren (Ritter,  ...',\n",
       " 'gnd_ids': [{'@id': 'http://d-nb.info/gnd/4072560-1'},\n",
       "  {'@id': 'http://d-nb.info/gnd/4241291-2'},\n",
       "  {'@id': 'http://d-nb.info/gnd/4071034-8'},\n",
       "  {'@id': 'http://d-nb.info/gnd/4013585-8'}],\n",
       " 'title_DE': 'hello',\n",
       " 'title_EN': 'hello2'}"
      ]
     },
     "execution_count": 12,
     "metadata": {},
     "output_type": "execute_result"
    }
   ],
   "source": [
    "items[0]"
   ]
  },
  {
   "cell_type": "code",
   "execution_count": 1,
   "metadata": {},
   "outputs": [
    {
     "name": "stderr",
     "output_type": "stream",
     "text": [
      "100%|██████████| 41902/41902 [00:28<00:00, 1474.93it/s]\n"
     ]
    }
   ],
   "source": [
    "import json\n",
    "from tqdm import tqdm\n",
    "import requests\n",
    "import re\n",
    "import faiss\n",
    "from pathlib import Path\n",
    "import numpy as np\n",
    "\n",
    "dim = 1024\n",
    "index = faiss.IndexFlatIP(dim)\n",
    "with open(\"./embedding-core.txt\", \"r\", encoding=\"utf-8\") as f_in:\n",
    "    for line in tqdm(f_in.readlines()):\n",
    "        parts = re.split(r\"[,\\t]\", line)\n",
    "        value = [float(v) for v in parts[1:]]\n",
    "        value = np.array(value, dtype=np.float32).reshape(1, dim)\n",
    "        index.add(value)"
   ]
  },
  {
   "cell_type": "code",
   "execution_count": 2,
   "metadata": {},
   "outputs": [],
   "source": [
    "faiss.write_index(index, \"test.idx\")"
   ]
  },
  {
   "cell_type": "code",
   "execution_count": 3,
   "metadata": {},
   "outputs": [],
   "source": [
    "index: faiss.IndexFlatIP = faiss.read_index(\"test.idx\")"
   ]
  },
  {
   "cell_type": "code",
   "execution_count": 6,
   "metadata": {},
   "outputs": [],
   "source": [
    "from llms4subjects.embedding import generate_api\n",
    "\n",
    "text = \"title: information retrieval\"\n",
    "q = np.array(generate_api(text), dtype=np.float32).reshape(1, dim)\n",
    "D, I = index.search(q, 5)"
   ]
  },
  {
   "cell_type": "code",
   "execution_count": 10,
   "metadata": {},
   "outputs": [
    {
     "data": {
      "text/plain": [
       "[23656, 21682, 21401, 23730, 12828]"
      ]
     },
     "execution_count": 10,
     "metadata": {},
     "output_type": "execute_result"
    }
   ],
   "source": [
    "I[0].tolist()"
   ]
  },
  {
   "cell_type": "code",
   "execution_count": 5,
   "metadata": {},
   "outputs": [
    {
     "data": {
      "text/plain": [
       "array([[-0.5757132 ,  0.07805479,  0.20367064, ..., -0.22702272,\n",
       "        -0.28042588,  0.16062208]], dtype=float32)"
      ]
     },
     "execution_count": 5,
     "metadata": {},
     "output_type": "execute_result"
    }
   ],
   "source": [
    "e"
   ]
  }
 ],
 "metadata": {
  "kernelspec": {
   "display_name": "llms4subjects-s_Ootod2-py3.10",
   "language": "python",
   "name": "python3"
  },
  "language_info": {
   "codemirror_mode": {
    "name": "ipython",
    "version": 3
   },
   "file_extension": ".py",
   "mimetype": "text/x-python",
   "name": "python",
   "nbconvert_exporter": "python",
   "pygments_lexer": "ipython3",
   "version": "3.10.9"
  }
 },
 "nbformat": 4,
 "nbformat_minor": 2
}
